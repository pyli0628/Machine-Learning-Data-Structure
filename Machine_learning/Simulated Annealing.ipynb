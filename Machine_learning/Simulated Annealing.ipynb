{
 "cells": [
  {
   "cell_type": "code",
   "execution_count": 14,
   "metadata": {
    "collapsed": true
   },
   "outputs": [],
   "source": [
    "import numpy as np\n",
    "import matplotlib.pyplot as plt\n",
    "import random\n",
    "import math"
   ]
  },
  {
   "cell_type": "code",
   "execution_count": 5,
   "metadata": {
    "collapsed": false
   },
   "outputs": [],
   "source": [
    "%matplotlib inline"
   ]
  },
  {
   "cell_type": "markdown",
   "metadata": {},
   "source": [
    "本文目标函数：$f(x)=(x^{2}-5x)\\sin(x^{2})$"
   ]
  },
  {
   "cell_type": "code",
   "execution_count": 10,
   "metadata": {
    "collapsed": false
   },
   "outputs": [
    {
     "data": {
      "text/plain": [
       "[<matplotlib.lines.Line2D at 0x23df7d8b5c0>]"
      ]
     },
     "execution_count": 10,
     "metadata": {},
     "output_type": "execute_result"
    },
    {
     "data": {
      "image/png": "[encoded data removed]",
      "text/plain": [
       "<matplotlib.figure.Figure at 0x23df7c75b70>"
      ]
     },
     "metadata": {},
     "output_type": "display_data"
    }
   ],
   "source": [
    "\n",
    "def aimFunction(x):\n",
    "    #y=x**3-60*x**2-4*x+6\n",
    "    y=np.sin(x**2) * (x**2 - 5*x)\n",
    "    return y\n",
    "\n",
    "x=[i/10 for i in range(100)]\n",
    "y=[0 for i in range(100)]\n",
    "for i in range(100):\n",
    "    y[i]=aimFunction(x[i])\n",
    " \n",
    "plt.plot(x,y)"
   ]
  },
  {
   "cell_type": "markdown",
   "metadata": {},
   "source": [
    "# key point： 1， Tmax, Tmin超参的选择； 2， x变化的幅度"
   ]
  },
  {
   "cell_type": "code",
   "execution_count": 107,
   "metadata": {
    "collapsed": false
   },
   "outputs": [
    {
     "name": "stdout",
     "output_type": "stream",
     "text": [
      "9.953577100843704 -48.98840824025407\n"
     ]
    }
   ],
   "source": [
    "Tmax=10 #initiate temperature\n",
    "Tmin=0.1 #minimum value of terperature\n",
    "interval = [0,10]#state space (solution space)\n",
    "x=np.random.uniform(interval[0],interval[1])#initiate x\n",
    "k=50 #times of internal circulation\n",
    "t=0#time\n",
    "T = Tmax\n",
    "while T>=Tmin:\n",
    "    for i in range(k):\n",
    "        #calculate y\n",
    "        y=aimFunction(x)\n",
    "        #generate a new x in the neighboorhood of x by transform function\n",
    "        xNew=x+np.random.uniform(low=-1,high=1)*T\n",
    "        if (interval[0]<=xNew and xNew<=interval[1]):\n",
    "            yNew=aimFunction(xNew)\n",
    "            if yNew-y<0:\n",
    "                x=xNew\n",
    "            else:\n",
    "                #metropolis principle\n",
    "                p=math.exp(-(yNew-y)/T)\n",
    "                r=np.random.uniform(low=0,high=1)\n",
    "                if p>r:\n",
    "                    x=xNew\n",
    "    t+=1    \n",
    "    T=Tmax/(1+t)\n",
    "#     if t%10==0:\n",
    "#         print (x,aimFunction(x))\n",
    "print (x,aimFunction(x))"
   ]
  }
 ],
 "metadata": {
  "anaconda-cloud": {},
  "kernelspec": {
   "display_name": "Python [default]",
   "language": "python",
   "name": "python3"
  },
  "language_info": {
   "codemirror_mode": {
    "name": "ipython",
    "version": 3
   },
   "file_extension": ".py",
   "mimetype": "text/x-python",
   "name": "python",
   "nbconvert_exporter": "python",
   "pygments_lexer": "ipython3",
   "version": "3.5.2"
  }
 },
 "nbformat": 4,
 "nbformat_minor": 1
}
