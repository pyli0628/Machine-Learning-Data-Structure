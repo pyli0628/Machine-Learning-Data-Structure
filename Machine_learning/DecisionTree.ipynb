{
 "cells": [
  {
   "cell_type": "code",
   "execution_count": 6,
   "metadata": {
    "collapsed": false
   },
   "outputs": [],
   "source": [
    "from math import log\n",
    "import operator\n",
    "import treePlotter\n",
    "import matplotlib.pyplot as plt\n",
    "%matplotlib inline"
   ]
  },
  {
   "cell_type": "code",
   "execution_count": 7,
   "metadata": {
    "collapsed": true
   },
   "outputs": [],
   "source": [
    "def createDataSet():\n",
    "    \"\"\"\n",
    "    outlook->  0: sunny | 1: overcast | 2: rain\n",
    "    temperature-> 0: hot | 1: mild | 2: cool\n",
    "    humidity-> 0: high | 1: normal\n",
    "    windy-> 0: false | 1: true \n",
    "    \"\"\"\n",
    "    dataSet = [[0, 0, 0, 0, 'N'], \n",
    "               [0, 0, 0, 1, 'N'], \n",
    "               [1, 0, 0, 0, 'Y'], \n",
    "               [2, 1, 0, 0, 'Y'], \n",
    "               [2, 2, 1, 0, 'Y'], \n",
    "               [2, 2, 1, 1, 'N'], \n",
    "               [1, 2, 1, 1, 'Y']]\n",
    "    labels = ['outlook', 'temperature', 'humidity', 'windy']\n",
    "    return dataSet, labels"
   ]
  },
  {
   "cell_type": "markdown",
   "metadata": {},
   "source": [
    "# 信息熵计算"
   ]
  },
  {
   "cell_type": "code",
   "execution_count": 8,
   "metadata": {
    "collapsed": true
   },
   "outputs": [],
   "source": [
    "def calcShannonEnt(dataSet):\n",
    "\n",
    "    numEntries = len(dataSet)\n",
    "    labelCounts = {}\n",
    "    for featVec in dataSet:\n",
    "        currentLabel = featVec[-1]\n",
    "        if currentLabel not in labelCounts.keys():\n",
    "            labelCounts[currentLabel] = 0\n",
    "        labelCounts[currentLabel] += 1      # 数每一类各多少个， {'Y': 4, 'N': 3}\n",
    "    shannonEnt = 0.0\n",
    "    for key in labelCounts:\n",
    "        prob = float(labelCounts[key])/numEntries\n",
    "        shannonEnt -= prob * log(prob, 2)\n",
    "    return shannonEnt"
   ]
  },
  {
   "cell_type": "code",
   "execution_count": 9,
   "metadata": {
    "collapsed": true
   },
   "outputs": [],
   "source": [
    "def majorityCnt(classList):\n",
    "    \"\"\"\n",
    "    输入：分类类别列表\n",
    "    输出：子节点的分类\n",
    "    描述：数据集已经处理了所有属性，但是类标签依然不是唯一的，\n",
    "          采用多数判决的方法决定该子节点的分类\n",
    "    \"\"\"\n",
    "    classCount = {}\n",
    "    for vote in classList:\n",
    "        if vote not in classCount.keys():\n",
    "            classCount[vote] = 0\n",
    "        classCount[vote] += 1\n",
    "    sortedClassCount = sorted(classCount.iteritems(), key=operator.itemgetter(1), reversed=True)\n",
    "    return sortedClassCount[0][0]"
   ]
  },
  {
   "cell_type": "code",
   "execution_count": 10,
   "metadata": {
    "collapsed": true
   },
   "outputs": [],
   "source": [
    "def chooseBestFeatureToSplit(dataSet):\n",
    "    \"\"\"\n",
    "    输入：数据集\n",
    "    输出：最好的划分维度\n",
    "    描述：选择最好的数据集划分维度\n",
    "    \"\"\"\n",
    "    numFeatures = len(dataSet[0]) - 1                 #feature个数\n",
    "    baseEntropy = calcShannonEnt(dataSet)             #整个dataset的熵\n",
    "    bestInfoGainRatio = 0.0\n",
    "    bestFeature = -1\n",
    "    for i in range(numFeatures):\n",
    "        featList = [example[i] for example in dataSet]  #每个feature的list\n",
    "        uniqueVals = set(featList)                      #每个list的唯一值集合                 \n",
    "        newEntropy = 0.0\n",
    "        splitInfo = 0.0\n",
    "        for value in uniqueVals:\n",
    "            subDataSet = splitDataSet(dataSet, i, value)  #每个唯一值对应的剩余feature的组成子集\n",
    "            prob = len(subDataSet)/float(len(dataSet))\n",
    "            newEntropy += prob * calcShannonEnt(subDataSet)\n",
    "            splitInfo += -prob * log(prob, 2)\n",
    "        infoGain = baseEntropy - newEntropy              #这个feature的infoGain\n",
    "        if (splitInfo == 0): # fix the overflow bug\n",
    "            continue\n",
    "        infoGainRatio = infoGain / splitInfo             #这个feature的infoGainRatio      \n",
    "        if (infoGainRatio > bestInfoGainRatio):          #选择最大的gain ratio\n",
    "            bestInfoGainRatio = infoGainRatio\n",
    "            bestFeature = i                              #选择最大的gain ratio对应的feature\n",
    "    return bestFeature"
   ]
  },
  {
   "cell_type": "code",
   "execution_count": 11,
   "metadata": {
    "collapsed": true
   },
   "outputs": [],
   "source": [
    "\n",
    "def splitDataSet(dataSet, axis, value):\n",
    "    \"\"\"\n",
    "    输入：数据集，选择维度，选择值\n",
    "    输出：划分数据集\n",
    "    描述：按照给定特征划分数据集；去除选择维度中等于选择值的项\n",
    "    \"\"\"\n",
    "    retDataSet = []\n",
    "    for featVec in dataSet:\n",
    "        if featVec[axis] == value:                      #只看当第i列的值＝value时的item\n",
    "            reduceFeatVec = featVec[:axis]              #featVec的第i列给除去\n",
    "            reduceFeatVec.extend(featVec[axis+1:])\n",
    "            retDataSet.append(reduceFeatVec)            \n",
    "    return retDataSet"
   ]
  },
  {
   "cell_type": "code",
   "execution_count": 12,
   "metadata": {
    "collapsed": true
   },
   "outputs": [],
   "source": [
    "def createTree(dataSet, labels):\n",
    "    \"\"\"\n",
    "    输入：数据集，特征标签\n",
    "    输出：决策树\n",
    "    描述：递归构建决策树，利用上述的函数\n",
    "    \"\"\"\n",
    "    classList = [example[-1] for example in dataSet]         # ['N', 'N', 'Y', 'Y', 'Y', 'N', 'Y']\n",
    "    if classList.count(classList[0]) == len(classList):\n",
    "        # classList所有元素都相等，即类别完全相同，停止划分\n",
    "        return classList[0]                                  #splitDataSet(dataSet, 0, 0)此时全是N，返回N\n",
    "    if len(dataSet[0]) == 1:                                 #[0, 0, 0, 0, 'N'] \n",
    "        # 遍历完所有特征时返回出现次数最多的\n",
    "        return majorityCnt(classList)\n",
    "    bestFeat = chooseBestFeatureToSplit(dataSet)             #0－> 2   \n",
    "        # 选择最大的gain ratio对应的feature\n",
    "    bestFeatLabel = labels[bestFeat]                         #outlook -> windy     \n",
    "    myTree = {bestFeatLabel:{}}                   \n",
    "        #多重字典构建树{'outlook': {0: 'N'\n",
    "    del(labels[bestFeat])                                    #['temperature', 'humidity', 'windy'] -> ['temperature', 'humidity']        \n",
    "    featValues = [example[bestFeat] for example in dataSet]  #[0, 0, 1, 2, 2, 2, 1]     \n",
    "    uniqueVals = set(featValues)\n",
    "    for value in uniqueVals:\n",
    "        subLabels = labels[:]                                #['temperature', 'humidity', 'windy']\n",
    "        myTree[bestFeatLabel][value] = createTree(splitDataSet(dataSet, bestFeat, value), subLabels)\n",
    "            # 划分数据，为下一层计算准备\n",
    "    return myTree"
   ]
  },
  {
   "cell_type": "code",
   "execution_count": 13,
   "metadata": {
    "collapsed": false
   },
   "outputs": [
    {
     "data": {
      "image/png": "[encoded data removed]",
      "text/plain": [
       "<Figure size 432x288 with 1 Axes>"
      ]
     },
     "metadata": {},
     "output_type": "display_data"
    }
   ],
   "source": [
    "dataSet, labels = createDataSet()\n",
    "labels_tmp = labels[:]\n",
    "desicionTree = createTree(dataSet, labels_tmp)\n",
    "treePlotter.createPlot(desicionTree)"
   ]
  },
  {
   "cell_type": "markdown",
   "metadata": {},
   "source": [
    "# test 新数据分类"
   ]
  },
  {
   "cell_type": "code",
   "execution_count": 14,
   "metadata": {
    "collapsed": true
   },
   "outputs": [],
   "source": [
    "def classify(inputTree, featLabels, testVec):\n",
    "    \"\"\"\n",
    "    输入：决策树，分类标签，测试数据\n",
    "    输出：决策结果\n",
    "    描述：跑决策树\n",
    "    \"\"\"\n",
    "\n",
    "    firstStr = list(inputTree.keys())[0]                       # ['outlook'], outlook\n",
    "    secondDict = inputTree[firstStr]                           # {0: 'N', 1: 'Y', 2: {'windy': {0: 'Y', 1: 'N'}}}\n",
    "    featIndex = featLabels.index(firstStr)                     # outlook所在的列序号0 \n",
    "    for key in secondDict.keys():                              # secondDict.keys()＝[0, 1, 2]\n",
    "        if testVec[featIndex] == key:                          # secondDict[key]＝N\n",
    "            # test向量的当前feature是哪个值，就走哪个树杈\n",
    "            if type(secondDict[key]).__name__ == 'dict':       # type(secondDict[key]).__name__＝str\n",
    "                # 如果secondDict[key]仍然是字典，则继续向下层走\n",
    "                classLabel = classify(secondDict[key], featLabels, testVec)\n",
    "            else:\n",
    "                # 如果secondDict[key]已经只是分类标签了，则返回这个类别标签\n",
    "                classLabel = secondDict[key]\n",
    "    return classLabel"
   ]
  },
  {
   "cell_type": "code",
   "execution_count": 15,
   "metadata": {
    "collapsed": true
   },
   "outputs": [],
   "source": [
    "# Create Test Set\n",
    "def createTestSet():\n",
    "    \"\"\"\n",
    "    outlook->  0: sunny | 1: overcast | 2: rain\n",
    "    temperature-> 0: hot | 1: mild | 2: cool\n",
    "    humidity-> 0: high | 1: normal\n",
    "    windy-> 0: false | 1: true \n",
    "    \"\"\"\n",
    "    testSet = [[0, 1, 0, 0], \n",
    "               [0, 2, 1, 0], \n",
    "               [2, 1, 1, 0], \n",
    "               [0, 1, 1, 1], \n",
    "               [1, 1, 0, 1], \n",
    "               [1, 0, 1, 0], \n",
    "               [2, 1, 0, 1]]\n",
    "    return testSet"
   ]
  },
  {
   "cell_type": "code",
   "execution_count": 16,
   "metadata": {
    "collapsed": false
   },
   "outputs": [
    {
     "data": {
      "text/plain": [
       "'N'"
      ]
     },
     "execution_count": 16,
     "metadata": {},
     "output_type": "execute_result"
    }
   ],
   "source": [
    "inputTree = desicionTree\n",
    "featLabels = ['outlook', 'temperature', 'humidity', 'windy']\n",
    "testVec = [0, 1, 0, 0]\n",
    "classify(inputTree, featLabels, testVec)"
   ]
  },
  {
   "cell_type": "code",
   "execution_count": null,
   "metadata": {
    "collapsed": true
   },
   "outputs": [],
   "source": []
  }
 ],
 "metadata": {
  "anaconda-cloud": {},
  "kernelspec": {
   "display_name": "Python [conda env:Anaconda3]",
   "language": "python",
   "name": "conda-env-Anaconda3-py"
  },
  "language_info": {
   "codemirror_mode": {
    "name": "ipython",
    "version": 3
   },
   "file_extension": ".py",
   "mimetype": "text/x-python",
   "name": "python",
   "nbconvert_exporter": "python",
   "pygments_lexer": "ipython3",
   "version": "3.5.2"
  }
 },
 "nbformat": 4,
 "nbformat_minor": 1
}
